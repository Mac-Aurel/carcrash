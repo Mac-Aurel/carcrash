{
 "cells": [
  {
   "cell_type": "code",
   "execution_count": 1,
   "id": "504405fd-6139-49ca-b7ad-97e7073758f7",
   "metadata": {},
   "outputs": [],
   "source": [
    "import pandas as pd\n",
    "import numpy as np\n",
    "import matplotlib.pyplot as plt\n",
    "%matplotlib inline\n",
    "import nbimporter\n",
    "from utils import *"
   ]
  },
  {
   "cell_type": "code",
   "execution_count": 2,
   "id": "b384861e-0bc8-4b58-833b-9298abb4ae5a",
   "metadata": {},
   "outputs": [],
   "source": [
    "def load_and_process_data(data1, data2, data3, data4, common_key, target_column):\n",
    "    \"\"\"Charge, fusionne et nettoie les fichiers CSV.\"\"\"\n",
    "    caract = pd.read_csv(data1, sep=\";\", low_memory=False)\n",
    "    lieux = pd.read_csv(data2, sep=\";\", low_memory=False)\n",
    "    usagers = pd.read_csv(data3, sep=\";\", low_memory=False)\n",
    "    vehicules = pd.read_csv(data4, sep=\";\", low_memory=False)\n",
    "    \n",
    "    merged_df = caract.merge(lieux, on=common_key, how=\"inner\") \\\n",
    "                      .merge(usagers, on=common_key, how=\"inner\") \\\n",
    "                      .merge(vehicules, on=common_key, how=\"inner\")\n",
    "    \n",
    "    print(f\"Colonnes disponibles après fusion : {merged_df.columns.tolist()}\")\n",
    "\n",
    "    merged_df = merged_df.dropna(axis=1, how='all')\n",
    "    \n",
    "    y = merged_df[target_column]\n",
    "    X = merged_df.drop(columns=[target_column, common_key])\n",
    "    return X, y\n"
   ]
  },
  {
   "cell_type": "code",
   "execution_count": 3,
   "id": "e4696f6e-5924-4dcb-9cd1-75e13bc64fc8",
   "metadata": {},
   "outputs": [],
   "source": [
    "def preprocess_data(data1, data2, data3, data4, common_key, target_column):\n",
    "    print(\"Chargement et fusion des données...\")\n",
    "    X, y = load_and_process_data(data1, data2, data3, data4, common_key, target_column)\n",
    "\n",
    "    print(\"\\nSuppression des doublons...\")\n",
    "    print(\"Nombre de doublons avant suppression :\", X.duplicated().sum())\n",
    "    X = X.drop_duplicates()\n",
    "    print(\"Nombre de doublons après suppression :\", X.duplicated().sum())\n",
    "\n",
    "    print(\"\\nTraitement des valeurs NaN...\")\n",
    "    X = auto_handle_nan(X)\n",
    "\n",
    "    print(\"\\nSélection des colonnes numériques importantes...\")\n",
    "    numeric_cols_corr = correlation_matrix(X, y, threshold=0.1)\n",
    "    numeric_cols_var = low_variance_filter(X, threshold=0.1)\n",
    "\n",
    "    print(\"\\nSélection des colonnes catégorielles importantes...\")\n",
    "    categorical_cols = categorical_analysis(X, y, threshold=2)\n",
    "\n",
    "    selected_columns = list(set(numeric_cols_var + categorical_cols))\n",
    "    print(f\"\\nColonnes finales sélectionnées : {selected_columns}\")\n",
    "\n",
    "    X_filtered = X[selected_columns]\n",
    "    # final_data = pd.concat([X_filtered, y], axis=1)\n",
    "\n",
    "    print(\"\\nRésumé des colonnes importantes pour la prédiction :\")\n",
    "    print(f\"Nombre de colonnes finales : {len(X_filtered.columns)}\")\n",
    "    print(X_filtered.head())\n",
    "    return X_filtered, y"
   ]
  },
  {
   "cell_type": "code",
   "execution_count": null,
   "id": "4a165037-d5cd-4232-94f4-5a2f7685023f",
   "metadata": {},
   "outputs": [],
   "source": []
  }
 ],
 "metadata": {
  "kernelspec": {
   "display_name": "Python 3 (ipykernel)",
   "language": "python",
   "name": "python3"
  },
  "language_info": {
   "codemirror_mode": {
    "name": "ipython",
    "version": 3
   },
   "file_extension": ".py",
   "mimetype": "text/x-python",
   "name": "python",
   "nbconvert_exporter": "python",
   "pygments_lexer": "ipython3",
   "version": "3.9.18"
  }
 },
 "nbformat": 4,
 "nbformat_minor": 5
}
